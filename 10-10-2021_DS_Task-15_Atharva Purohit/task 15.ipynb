{
  "nbformat": 4,
  "nbformat_minor": 0,
  "metadata": {
    "colab": {
      "name": "Untitled5.ipynb",
      "provenance": []
    },
    "kernelspec": {
      "name": "python3",
      "display_name": "Python 3"
    },
    "language_info": {
      "name": "python"
    }
  },
  "cells": [
    {
      "cell_type": "code",
      "metadata": {
        "id": "JB_DyWGlUMC1"
      },
      "source": [
        "import pandas as pd\n"
      ],
      "execution_count": 1,
      "outputs": []
    },
    {
      "cell_type": "code",
      "metadata": {
        "id": "LwTEcDeTT8pb"
      },
      "source": [
        "path = '/content/data.csv'  # path of the dataset \n",
        "\n",
        "df = pd.read_csv(path)  # reads data and stores as dataframe"
      ],
      "execution_count": 2,
      "outputs": []
    },
    {
      "cell_type": "code",
      "metadata": {
        "colab": {
          "base_uri": "https://localhost:8080/",
          "height": 618
        },
        "id": "ETJ1obL2UQBJ",
        "outputId": "8fe88536-ac11-4f1b-8612-6d60ceb06a81"
      },
      "source": [
        "df"
      ],
      "execution_count": 3,
      "outputs": [
        {
          "output_type": "execute_result",
          "data": {
            "text/html": [
              "<div>\n",
              "<style scoped>\n",
              "    .dataframe tbody tr th:only-of-type {\n",
              "        vertical-align: middle;\n",
              "    }\n",
              "\n",
              "    .dataframe tbody tr th {\n",
              "        vertical-align: top;\n",
              "    }\n",
              "\n",
              "    .dataframe thead th {\n",
              "        text-align: right;\n",
              "    }\n",
              "</style>\n",
              "<table border=\"1\" class=\"dataframe\">\n",
              "  <thead>\n",
              "    <tr style=\"text-align: right;\">\n",
              "      <th></th>\n",
              "      <th>passenger_id</th>\n",
              "      <th>pclass</th>\n",
              "      <th>name</th>\n",
              "      <th>sex</th>\n",
              "      <th>age</th>\n",
              "      <th>sibsp</th>\n",
              "      <th>parch</th>\n",
              "      <th>ticket</th>\n",
              "      <th>fare</th>\n",
              "      <th>cabin</th>\n",
              "      <th>embarked</th>\n",
              "      <th>boat</th>\n",
              "      <th>body</th>\n",
              "      <th>home.dest</th>\n",
              "      <th>survived</th>\n",
              "    </tr>\n",
              "  </thead>\n",
              "  <tbody>\n",
              "    <tr>\n",
              "      <th>0</th>\n",
              "      <td>1216</td>\n",
              "      <td>3</td>\n",
              "      <td>Smyth, Miss. Julia</td>\n",
              "      <td>female</td>\n",
              "      <td>NaN</td>\n",
              "      <td>0</td>\n",
              "      <td>0</td>\n",
              "      <td>335432</td>\n",
              "      <td>7.7333</td>\n",
              "      <td>NaN</td>\n",
              "      <td>Q</td>\n",
              "      <td>13</td>\n",
              "      <td>NaN</td>\n",
              "      <td>NaN</td>\n",
              "      <td>1</td>\n",
              "    </tr>\n",
              "    <tr>\n",
              "      <th>1</th>\n",
              "      <td>699</td>\n",
              "      <td>3</td>\n",
              "      <td>Cacic, Mr. Luka</td>\n",
              "      <td>male</td>\n",
              "      <td>38.0</td>\n",
              "      <td>0</td>\n",
              "      <td>0</td>\n",
              "      <td>315089</td>\n",
              "      <td>8.6625</td>\n",
              "      <td>NaN</td>\n",
              "      <td>S</td>\n",
              "      <td>NaN</td>\n",
              "      <td>NaN</td>\n",
              "      <td>Croatia</td>\n",
              "      <td>0</td>\n",
              "    </tr>\n",
              "    <tr>\n",
              "      <th>2</th>\n",
              "      <td>1267</td>\n",
              "      <td>3</td>\n",
              "      <td>Van Impe, Mrs. Jean Baptiste (Rosalie Paula Go...</td>\n",
              "      <td>female</td>\n",
              "      <td>30.0</td>\n",
              "      <td>1</td>\n",
              "      <td>1</td>\n",
              "      <td>345773</td>\n",
              "      <td>24.1500</td>\n",
              "      <td>NaN</td>\n",
              "      <td>S</td>\n",
              "      <td>NaN</td>\n",
              "      <td>NaN</td>\n",
              "      <td>NaN</td>\n",
              "      <td>0</td>\n",
              "    </tr>\n",
              "    <tr>\n",
              "      <th>3</th>\n",
              "      <td>449</td>\n",
              "      <td>2</td>\n",
              "      <td>Hocking, Mrs. Elizabeth (Eliza Needs)</td>\n",
              "      <td>female</td>\n",
              "      <td>54.0</td>\n",
              "      <td>1</td>\n",
              "      <td>3</td>\n",
              "      <td>29105</td>\n",
              "      <td>23.0000</td>\n",
              "      <td>NaN</td>\n",
              "      <td>S</td>\n",
              "      <td>4</td>\n",
              "      <td>NaN</td>\n",
              "      <td>Cornwall / Akron, OH</td>\n",
              "      <td>1</td>\n",
              "    </tr>\n",
              "    <tr>\n",
              "      <th>4</th>\n",
              "      <td>576</td>\n",
              "      <td>2</td>\n",
              "      <td>Veal, Mr. James</td>\n",
              "      <td>male</td>\n",
              "      <td>40.0</td>\n",
              "      <td>0</td>\n",
              "      <td>0</td>\n",
              "      <td>28221</td>\n",
              "      <td>13.0000</td>\n",
              "      <td>NaN</td>\n",
              "      <td>S</td>\n",
              "      <td>NaN</td>\n",
              "      <td>NaN</td>\n",
              "      <td>Barre, Co Washington, VT</td>\n",
              "      <td>0</td>\n",
              "    </tr>\n",
              "    <tr>\n",
              "      <th>...</th>\n",
              "      <td>...</td>\n",
              "      <td>...</td>\n",
              "      <td>...</td>\n",
              "      <td>...</td>\n",
              "      <td>...</td>\n",
              "      <td>...</td>\n",
              "      <td>...</td>\n",
              "      <td>...</td>\n",
              "      <td>...</td>\n",
              "      <td>...</td>\n",
              "      <td>...</td>\n",
              "      <td>...</td>\n",
              "      <td>...</td>\n",
              "      <td>...</td>\n",
              "      <td>...</td>\n",
              "    </tr>\n",
              "    <tr>\n",
              "      <th>845</th>\n",
              "      <td>158</td>\n",
              "      <td>1</td>\n",
              "      <td>Hipkins, Mr. William Edward</td>\n",
              "      <td>male</td>\n",
              "      <td>55.0</td>\n",
              "      <td>0</td>\n",
              "      <td>0</td>\n",
              "      <td>680</td>\n",
              "      <td>50.0000</td>\n",
              "      <td>C39</td>\n",
              "      <td>S</td>\n",
              "      <td>NaN</td>\n",
              "      <td>NaN</td>\n",
              "      <td>London / Birmingham</td>\n",
              "      <td>0</td>\n",
              "    </tr>\n",
              "    <tr>\n",
              "      <th>846</th>\n",
              "      <td>174</td>\n",
              "      <td>1</td>\n",
              "      <td>Kent, Mr. Edward Austin</td>\n",
              "      <td>male</td>\n",
              "      <td>58.0</td>\n",
              "      <td>0</td>\n",
              "      <td>0</td>\n",
              "      <td>11771</td>\n",
              "      <td>29.7000</td>\n",
              "      <td>B37</td>\n",
              "      <td>C</td>\n",
              "      <td>NaN</td>\n",
              "      <td>258.0</td>\n",
              "      <td>Buffalo, NY</td>\n",
              "      <td>0</td>\n",
              "    </tr>\n",
              "    <tr>\n",
              "      <th>847</th>\n",
              "      <td>467</td>\n",
              "      <td>2</td>\n",
              "      <td>Kantor, Mrs. Sinai (Miriam Sternin)</td>\n",
              "      <td>female</td>\n",
              "      <td>24.0</td>\n",
              "      <td>1</td>\n",
              "      <td>0</td>\n",
              "      <td>244367</td>\n",
              "      <td>26.0000</td>\n",
              "      <td>NaN</td>\n",
              "      <td>S</td>\n",
              "      <td>12</td>\n",
              "      <td>NaN</td>\n",
              "      <td>Moscow / Bronx, NY</td>\n",
              "      <td>1</td>\n",
              "    </tr>\n",
              "    <tr>\n",
              "      <th>848</th>\n",
              "      <td>1112</td>\n",
              "      <td>3</td>\n",
              "      <td>Peacock, Miss. Treasteall</td>\n",
              "      <td>female</td>\n",
              "      <td>3.0</td>\n",
              "      <td>1</td>\n",
              "      <td>1</td>\n",
              "      <td>SOTON/O.Q. 3101315</td>\n",
              "      <td>13.7750</td>\n",
              "      <td>NaN</td>\n",
              "      <td>S</td>\n",
              "      <td>NaN</td>\n",
              "      <td>NaN</td>\n",
              "      <td>NaN</td>\n",
              "      <td>0</td>\n",
              "    </tr>\n",
              "    <tr>\n",
              "      <th>849</th>\n",
              "      <td>425</td>\n",
              "      <td>2</td>\n",
              "      <td>Greenberg, Mr. Samuel</td>\n",
              "      <td>male</td>\n",
              "      <td>52.0</td>\n",
              "      <td>0</td>\n",
              "      <td>0</td>\n",
              "      <td>250647</td>\n",
              "      <td>13.0000</td>\n",
              "      <td>NaN</td>\n",
              "      <td>S</td>\n",
              "      <td>NaN</td>\n",
              "      <td>19.0</td>\n",
              "      <td>Bronx, NY</td>\n",
              "      <td>0</td>\n",
              "    </tr>\n",
              "  </tbody>\n",
              "</table>\n",
              "<p>850 rows × 15 columns</p>\n",
              "</div>"
            ],
            "text/plain": [
              "     passenger_id  pclass  ...                 home.dest survived\n",
              "0            1216       3  ...                       NaN        1\n",
              "1             699       3  ...                   Croatia        0\n",
              "2            1267       3  ...                       NaN        0\n",
              "3             449       2  ...      Cornwall / Akron, OH        1\n",
              "4             576       2  ...  Barre, Co Washington, VT        0\n",
              "..            ...     ...  ...                       ...      ...\n",
              "845           158       1  ...       London / Birmingham        0\n",
              "846           174       1  ...               Buffalo, NY        0\n",
              "847           467       2  ...        Moscow / Bronx, NY        1\n",
              "848          1112       3  ...                       NaN        0\n",
              "849           425       2  ...                 Bronx, NY        0\n",
              "\n",
              "[850 rows x 15 columns]"
            ]
          },
          "metadata": {},
          "execution_count": 3
        }
      ]
    },
    {
      "cell_type": "code",
      "metadata": {
        "id": "ZL5LIi4xRWGj"
      },
      "source": [
        "df.drop(['name','passenger_id','home.dest'], axis='columns', inplace=True)"
      ],
      "execution_count": null,
      "outputs": []
    },
    {
      "cell_type": "code",
      "metadata": {
        "id": "4EPiQba9SSMD"
      },
      "source": [
        "df.drop(['cabin'], axis='columns', inplace=True)"
      ],
      "execution_count": 11,
      "outputs": []
    },
    {
      "cell_type": "code",
      "metadata": {
        "colab": {
          "base_uri": "https://localhost:8080/",
          "height": 417
        },
        "id": "kOg_6RKpSopF",
        "outputId": "52737204-5ad8-49c6-bc57-9c69f251a97f"
      },
      "source": [
        "df"
      ],
      "execution_count": 19,
      "outputs": [
        {
          "output_type": "execute_result",
          "data": {
            "text/html": [
              "<div>\n",
              "<style scoped>\n",
              "    .dataframe tbody tr th:only-of-type {\n",
              "        vertical-align: middle;\n",
              "    }\n",
              "\n",
              "    .dataframe tbody tr th {\n",
              "        vertical-align: top;\n",
              "    }\n",
              "\n",
              "    .dataframe thead th {\n",
              "        text-align: right;\n",
              "    }\n",
              "</style>\n",
              "<table border=\"1\" class=\"dataframe\">\n",
              "  <thead>\n",
              "    <tr style=\"text-align: right;\">\n",
              "      <th></th>\n",
              "      <th>pclass</th>\n",
              "      <th>sex</th>\n",
              "      <th>age</th>\n",
              "      <th>sibsp</th>\n",
              "      <th>parch</th>\n",
              "      <th>ticket</th>\n",
              "      <th>fare</th>\n",
              "      <th>embarked</th>\n",
              "      <th>survived</th>\n",
              "    </tr>\n",
              "  </thead>\n",
              "  <tbody>\n",
              "    <tr>\n",
              "      <th>0</th>\n",
              "      <td>3</td>\n",
              "      <td>female</td>\n",
              "      <td>NaN</td>\n",
              "      <td>0</td>\n",
              "      <td>0</td>\n",
              "      <td>335432</td>\n",
              "      <td>7.7333</td>\n",
              "      <td>Q</td>\n",
              "      <td>1</td>\n",
              "    </tr>\n",
              "    <tr>\n",
              "      <th>1</th>\n",
              "      <td>3</td>\n",
              "      <td>male</td>\n",
              "      <td>38.0</td>\n",
              "      <td>0</td>\n",
              "      <td>0</td>\n",
              "      <td>315089</td>\n",
              "      <td>8.6625</td>\n",
              "      <td>S</td>\n",
              "      <td>0</td>\n",
              "    </tr>\n",
              "    <tr>\n",
              "      <th>2</th>\n",
              "      <td>3</td>\n",
              "      <td>female</td>\n",
              "      <td>30.0</td>\n",
              "      <td>1</td>\n",
              "      <td>1</td>\n",
              "      <td>345773</td>\n",
              "      <td>24.1500</td>\n",
              "      <td>S</td>\n",
              "      <td>0</td>\n",
              "    </tr>\n",
              "    <tr>\n",
              "      <th>3</th>\n",
              "      <td>2</td>\n",
              "      <td>female</td>\n",
              "      <td>54.0</td>\n",
              "      <td>1</td>\n",
              "      <td>3</td>\n",
              "      <td>29105</td>\n",
              "      <td>23.0000</td>\n",
              "      <td>S</td>\n",
              "      <td>1</td>\n",
              "    </tr>\n",
              "    <tr>\n",
              "      <th>4</th>\n",
              "      <td>2</td>\n",
              "      <td>male</td>\n",
              "      <td>40.0</td>\n",
              "      <td>0</td>\n",
              "      <td>0</td>\n",
              "      <td>28221</td>\n",
              "      <td>13.0000</td>\n",
              "      <td>S</td>\n",
              "      <td>0</td>\n",
              "    </tr>\n",
              "    <tr>\n",
              "      <th>...</th>\n",
              "      <td>...</td>\n",
              "      <td>...</td>\n",
              "      <td>...</td>\n",
              "      <td>...</td>\n",
              "      <td>...</td>\n",
              "      <td>...</td>\n",
              "      <td>...</td>\n",
              "      <td>...</td>\n",
              "      <td>...</td>\n",
              "    </tr>\n",
              "    <tr>\n",
              "      <th>845</th>\n",
              "      <td>1</td>\n",
              "      <td>male</td>\n",
              "      <td>55.0</td>\n",
              "      <td>0</td>\n",
              "      <td>0</td>\n",
              "      <td>680</td>\n",
              "      <td>50.0000</td>\n",
              "      <td>S</td>\n",
              "      <td>0</td>\n",
              "    </tr>\n",
              "    <tr>\n",
              "      <th>846</th>\n",
              "      <td>1</td>\n",
              "      <td>male</td>\n",
              "      <td>58.0</td>\n",
              "      <td>0</td>\n",
              "      <td>0</td>\n",
              "      <td>11771</td>\n",
              "      <td>29.7000</td>\n",
              "      <td>C</td>\n",
              "      <td>0</td>\n",
              "    </tr>\n",
              "    <tr>\n",
              "      <th>847</th>\n",
              "      <td>2</td>\n",
              "      <td>female</td>\n",
              "      <td>24.0</td>\n",
              "      <td>1</td>\n",
              "      <td>0</td>\n",
              "      <td>244367</td>\n",
              "      <td>26.0000</td>\n",
              "      <td>S</td>\n",
              "      <td>1</td>\n",
              "    </tr>\n",
              "    <tr>\n",
              "      <th>848</th>\n",
              "      <td>3</td>\n",
              "      <td>female</td>\n",
              "      <td>3.0</td>\n",
              "      <td>1</td>\n",
              "      <td>1</td>\n",
              "      <td>SOTON/O.Q. 3101315</td>\n",
              "      <td>13.7750</td>\n",
              "      <td>S</td>\n",
              "      <td>0</td>\n",
              "    </tr>\n",
              "    <tr>\n",
              "      <th>849</th>\n",
              "      <td>2</td>\n",
              "      <td>male</td>\n",
              "      <td>52.0</td>\n",
              "      <td>0</td>\n",
              "      <td>0</td>\n",
              "      <td>250647</td>\n",
              "      <td>13.0000</td>\n",
              "      <td>S</td>\n",
              "      <td>0</td>\n",
              "    </tr>\n",
              "  </tbody>\n",
              "</table>\n",
              "<p>850 rows × 9 columns</p>\n",
              "</div>"
            ],
            "text/plain": [
              "     pclass     sex   age  ...     fare  embarked survived\n",
              "0         3  female   NaN  ...   7.7333         Q        1\n",
              "1         3    male  38.0  ...   8.6625         S        0\n",
              "2         3  female  30.0  ...  24.1500         S        0\n",
              "3         2  female  54.0  ...  23.0000         S        1\n",
              "4         2    male  40.0  ...  13.0000         S        0\n",
              "..      ...     ...   ...  ...      ...       ...      ...\n",
              "845       1    male  55.0  ...  50.0000         S        0\n",
              "846       1    male  58.0  ...  29.7000         C        0\n",
              "847       2  female  24.0  ...  26.0000         S        1\n",
              "848       3  female   3.0  ...  13.7750         S        0\n",
              "849       2    male  52.0  ...  13.0000         S        0\n",
              "\n",
              "[850 rows x 9 columns]"
            ]
          },
          "metadata": {},
          "execution_count": 19
        }
      ]
    },
    {
      "cell_type": "code",
      "metadata": {
        "colab": {
          "base_uri": "https://localhost:8080/"
        },
        "id": "Go5dUpCqSa-l",
        "outputId": "d77630ed-28f3-473d-bfcd-33110e0bfc15"
      },
      "source": [
        "df['embarked'].value_counts()"
      ],
      "execution_count": 12,
      "outputs": [
        {
          "output_type": "execute_result",
          "data": {
            "text/plain": [
              "S    589\n",
              "C    176\n",
              "Q     84\n",
              "Name: embarked, dtype: int64"
            ]
          },
          "metadata": {},
          "execution_count": 12
        }
      ]
    },
    {
      "cell_type": "code",
      "metadata": {
        "colab": {
          "base_uri": "https://localhost:8080/"
        },
        "id": "NR_5-FLZSs1_",
        "outputId": "cd1b7ffa-dfb3-4772-d34a-d10c4db5af47"
      },
      "source": [
        " df['body'].isna().sum()"
      ],
      "execution_count": 14,
      "outputs": [
        {
          "output_type": "execute_result",
          "data": {
            "text/plain": [
              "777"
            ]
          },
          "metadata": {},
          "execution_count": 14
        }
      ]
    },
    {
      "cell_type": "code",
      "metadata": {
        "id": "4hWdEivBS_gT"
      },
      "source": [
        "df.drop(['body'], axis='columns', inplace=True)"
      ],
      "execution_count": 15,
      "outputs": []
    },
    {
      "cell_type": "code",
      "metadata": {
        "colab": {
          "base_uri": "https://localhost:8080/"
        },
        "id": "ac3wAIOVTD36",
        "outputId": "6306d8e4-252d-44a6-9efb-4f4b1143aaa7"
      },
      "source": [
        " df['boat'].isna().sum()"
      ],
      "execution_count": 17,
      "outputs": [
        {
          "output_type": "execute_result",
          "data": {
            "text/plain": [
              "542"
            ]
          },
          "metadata": {},
          "execution_count": 17
        }
      ]
    },
    {
      "cell_type": "code",
      "metadata": {
        "id": "rkR7v1kCTWlL"
      },
      "source": [
        "df.drop(['boat'], axis='columns', inplace=True)"
      ],
      "execution_count": 18,
      "outputs": []
    },
    {
      "cell_type": "code",
      "metadata": {
        "colab": {
          "base_uri": "https://localhost:8080/"
        },
        "id": "tBkaErVkTs0F",
        "outputId": "705dd40d-6d02-4c6e-ba7a-67b704e54beb"
      },
      "source": [
        " df['pclass'].isna().sum()"
      ],
      "execution_count": 20,
      "outputs": [
        {
          "output_type": "execute_result",
          "data": {
            "text/plain": [
              "0"
            ]
          },
          "metadata": {},
          "execution_count": 20
        }
      ]
    },
    {
      "cell_type": "code",
      "metadata": {
        "colab": {
          "base_uri": "https://localhost:8080/"
        },
        "id": "HErxioJHTxgx",
        "outputId": "bd8f71ff-da8b-4144-b30d-60dda6042571"
      },
      "source": [
        " df['age'].isna().sum()"
      ],
      "execution_count": 21,
      "outputs": [
        {
          "output_type": "execute_result",
          "data": {
            "text/plain": [
              "174"
            ]
          },
          "metadata": {},
          "execution_count": 21
        }
      ]
    },
    {
      "cell_type": "code",
      "metadata": {
        "id": "weQjQsWtT0xd"
      },
      "source": [
        "df['age'].fillna(df['age'].median(), inplace=True)"
      ],
      "execution_count": 22,
      "outputs": []
    },
    {
      "cell_type": "code",
      "metadata": {
        "colab": {
          "base_uri": "https://localhost:8080/"
        },
        "id": "RrBLFWmaUsjp",
        "outputId": "0655c9ad-4e9b-42b9-f1fa-dac2b1efc322"
      },
      "source": [
        " df.isna().sum()"
      ],
      "execution_count": 28,
      "outputs": [
        {
          "output_type": "execute_result",
          "data": {
            "text/plain": [
              "pclass      0\n",
              "sex         0\n",
              "age         0\n",
              "sibsp       0\n",
              "parch       0\n",
              "ticket      0\n",
              "fare        0\n",
              "embarked    1\n",
              "survived    0\n",
              "dtype: int64"
            ]
          },
          "metadata": {},
          "execution_count": 28
        }
      ]
    },
    {
      "cell_type": "code",
      "metadata": {
        "colab": {
          "base_uri": "https://localhost:8080/"
        },
        "id": "CMftNmEAUOw8",
        "outputId": "f4dae8c9-c318-4240-dd73-0064bc89f6b7"
      },
      "source": [
        " df['ticket'].isna().sum()"
      ],
      "execution_count": 24,
      "outputs": [
        {
          "output_type": "execute_result",
          "data": {
            "text/plain": [
              "0"
            ]
          },
          "metadata": {},
          "execution_count": 24
        }
      ]
    },
    {
      "cell_type": "code",
      "metadata": {
        "colab": {
          "base_uri": "https://localhost:8080/"
        },
        "id": "2cG07ivyUcgg",
        "outputId": "ed7f1fea-f6a9-4623-b513-539182203fec"
      },
      "source": [
        "df['fare'].isna().sum()"
      ],
      "execution_count": 26,
      "outputs": [
        {
          "output_type": "execute_result",
          "data": {
            "text/plain": [
              "1"
            ]
          },
          "metadata": {},
          "execution_count": 26
        }
      ]
    },
    {
      "cell_type": "code",
      "metadata": {
        "id": "xDCecc74Ulgx"
      },
      "source": [
        "df['fare'].fillna(df['fare'].median(), inplace=True)"
      ],
      "execution_count": 27,
      "outputs": []
    },
    {
      "cell_type": "code",
      "metadata": {
        "id": "AHy1B4ZKUqgK"
      },
      "source": [
        ""
      ],
      "execution_count": null,
      "outputs": []
    },
    {
      "cell_type": "code",
      "metadata": {
        "colab": {
          "base_uri": "https://localhost:8080/",
          "height": 417
        },
        "id": "LuGCpGeDUuAF",
        "outputId": "41407f4d-fd42-46cb-e475-ca091414ed65"
      },
      "source": [
        "col_norm = ['age']\n",
        "\n",
        "df[col_norm]/df[col_norm].max()\n",
        "  \n"
      ],
      "execution_count": 77,
      "outputs": [
        {
          "output_type": "execute_result",
          "data": {
            "text/html": [
              "<div>\n",
              "<style scoped>\n",
              "    .dataframe tbody tr th:only-of-type {\n",
              "        vertical-align: middle;\n",
              "    }\n",
              "\n",
              "    .dataframe tbody tr th {\n",
              "        vertical-align: top;\n",
              "    }\n",
              "\n",
              "    .dataframe thead th {\n",
              "        text-align: right;\n",
              "    }\n",
              "</style>\n",
              "<table border=\"1\" class=\"dataframe\">\n",
              "  <thead>\n",
              "    <tr style=\"text-align: right;\">\n",
              "      <th></th>\n",
              "      <th>age</th>\n",
              "    </tr>\n",
              "  </thead>\n",
              "  <tbody>\n",
              "    <tr>\n",
              "      <th>0</th>\n",
              "      <td>0.3500</td>\n",
              "    </tr>\n",
              "    <tr>\n",
              "      <th>1</th>\n",
              "      <td>0.4750</td>\n",
              "    </tr>\n",
              "    <tr>\n",
              "      <th>2</th>\n",
              "      <td>0.3750</td>\n",
              "    </tr>\n",
              "    <tr>\n",
              "      <th>3</th>\n",
              "      <td>0.6750</td>\n",
              "    </tr>\n",
              "    <tr>\n",
              "      <th>4</th>\n",
              "      <td>0.5000</td>\n",
              "    </tr>\n",
              "    <tr>\n",
              "      <th>...</th>\n",
              "      <td>...</td>\n",
              "    </tr>\n",
              "    <tr>\n",
              "      <th>845</th>\n",
              "      <td>0.6875</td>\n",
              "    </tr>\n",
              "    <tr>\n",
              "      <th>846</th>\n",
              "      <td>0.7250</td>\n",
              "    </tr>\n",
              "    <tr>\n",
              "      <th>847</th>\n",
              "      <td>0.3000</td>\n",
              "    </tr>\n",
              "    <tr>\n",
              "      <th>848</th>\n",
              "      <td>0.0375</td>\n",
              "    </tr>\n",
              "    <tr>\n",
              "      <th>849</th>\n",
              "      <td>0.6500</td>\n",
              "    </tr>\n",
              "  </tbody>\n",
              "</table>\n",
              "<p>849 rows × 1 columns</p>\n",
              "</div>"
            ],
            "text/plain": [
              "        age\n",
              "0    0.3500\n",
              "1    0.4750\n",
              "2    0.3750\n",
              "3    0.6750\n",
              "4    0.5000\n",
              "..      ...\n",
              "845  0.6875\n",
              "846  0.7250\n",
              "847  0.3000\n",
              "848  0.0375\n",
              "849  0.6500\n",
              "\n",
              "[849 rows x 1 columns]"
            ]
          },
          "metadata": {},
          "execution_count": 77
        }
      ]
    },
    {
      "cell_type": "code",
      "metadata": {
        "colab": {
          "base_uri": "https://localhost:8080/",
          "height": 417
        },
        "id": "a_J-oQ4iU50P",
        "outputId": "dfb3478a-7a32-4975-9e22-e96c3c6b5c4c"
      },
      "source": [
        "df"
      ],
      "execution_count": 78,
      "outputs": [
        {
          "output_type": "execute_result",
          "data": {
            "text/html": [
              "<div>\n",
              "<style scoped>\n",
              "    .dataframe tbody tr th:only-of-type {\n",
              "        vertical-align: middle;\n",
              "    }\n",
              "\n",
              "    .dataframe tbody tr th {\n",
              "        vertical-align: top;\n",
              "    }\n",
              "\n",
              "    .dataframe thead th {\n",
              "        text-align: right;\n",
              "    }\n",
              "</style>\n",
              "<table border=\"1\" class=\"dataframe\">\n",
              "  <thead>\n",
              "    <tr style=\"text-align: right;\">\n",
              "      <th></th>\n",
              "      <th>pclass</th>\n",
              "      <th>sex</th>\n",
              "      <th>age</th>\n",
              "      <th>sibsp</th>\n",
              "      <th>parch</th>\n",
              "      <th>ticket</th>\n",
              "      <th>fare</th>\n",
              "      <th>embarked</th>\n",
              "      <th>survived</th>\n",
              "    </tr>\n",
              "  </thead>\n",
              "  <tbody>\n",
              "    <tr>\n",
              "      <th>0</th>\n",
              "      <td>3</td>\n",
              "      <td>0</td>\n",
              "      <td>28.0</td>\n",
              "      <td>0</td>\n",
              "      <td>0</td>\n",
              "      <td>335432</td>\n",
              "      <td>7.7333</td>\n",
              "      <td>1</td>\n",
              "      <td>1</td>\n",
              "    </tr>\n",
              "    <tr>\n",
              "      <th>1</th>\n",
              "      <td>3</td>\n",
              "      <td>1</td>\n",
              "      <td>38.0</td>\n",
              "      <td>0</td>\n",
              "      <td>0</td>\n",
              "      <td>315089</td>\n",
              "      <td>8.6625</td>\n",
              "      <td>2</td>\n",
              "      <td>0</td>\n",
              "    </tr>\n",
              "    <tr>\n",
              "      <th>2</th>\n",
              "      <td>3</td>\n",
              "      <td>0</td>\n",
              "      <td>30.0</td>\n",
              "      <td>1</td>\n",
              "      <td>1</td>\n",
              "      <td>345773</td>\n",
              "      <td>24.1500</td>\n",
              "      <td>2</td>\n",
              "      <td>0</td>\n",
              "    </tr>\n",
              "    <tr>\n",
              "      <th>3</th>\n",
              "      <td>2</td>\n",
              "      <td>0</td>\n",
              "      <td>54.0</td>\n",
              "      <td>1</td>\n",
              "      <td>3</td>\n",
              "      <td>29105</td>\n",
              "      <td>23.0000</td>\n",
              "      <td>2</td>\n",
              "      <td>1</td>\n",
              "    </tr>\n",
              "    <tr>\n",
              "      <th>4</th>\n",
              "      <td>2</td>\n",
              "      <td>1</td>\n",
              "      <td>40.0</td>\n",
              "      <td>0</td>\n",
              "      <td>0</td>\n",
              "      <td>28221</td>\n",
              "      <td>13.0000</td>\n",
              "      <td>2</td>\n",
              "      <td>0</td>\n",
              "    </tr>\n",
              "    <tr>\n",
              "      <th>...</th>\n",
              "      <td>...</td>\n",
              "      <td>...</td>\n",
              "      <td>...</td>\n",
              "      <td>...</td>\n",
              "      <td>...</td>\n",
              "      <td>...</td>\n",
              "      <td>...</td>\n",
              "      <td>...</td>\n",
              "      <td>...</td>\n",
              "    </tr>\n",
              "    <tr>\n",
              "      <th>845</th>\n",
              "      <td>1</td>\n",
              "      <td>1</td>\n",
              "      <td>55.0</td>\n",
              "      <td>0</td>\n",
              "      <td>0</td>\n",
              "      <td>680</td>\n",
              "      <td>50.0000</td>\n",
              "      <td>2</td>\n",
              "      <td>0</td>\n",
              "    </tr>\n",
              "    <tr>\n",
              "      <th>846</th>\n",
              "      <td>1</td>\n",
              "      <td>1</td>\n",
              "      <td>58.0</td>\n",
              "      <td>0</td>\n",
              "      <td>0</td>\n",
              "      <td>11771</td>\n",
              "      <td>29.7000</td>\n",
              "      <td>0</td>\n",
              "      <td>0</td>\n",
              "    </tr>\n",
              "    <tr>\n",
              "      <th>847</th>\n",
              "      <td>2</td>\n",
              "      <td>0</td>\n",
              "      <td>24.0</td>\n",
              "      <td>1</td>\n",
              "      <td>0</td>\n",
              "      <td>244367</td>\n",
              "      <td>26.0000</td>\n",
              "      <td>2</td>\n",
              "      <td>1</td>\n",
              "    </tr>\n",
              "    <tr>\n",
              "      <th>848</th>\n",
              "      <td>3</td>\n",
              "      <td>0</td>\n",
              "      <td>3.0</td>\n",
              "      <td>1</td>\n",
              "      <td>1</td>\n",
              "      <td>SOTON/O.Q. 3101315</td>\n",
              "      <td>13.7750</td>\n",
              "      <td>2</td>\n",
              "      <td>0</td>\n",
              "    </tr>\n",
              "    <tr>\n",
              "      <th>849</th>\n",
              "      <td>2</td>\n",
              "      <td>1</td>\n",
              "      <td>52.0</td>\n",
              "      <td>0</td>\n",
              "      <td>0</td>\n",
              "      <td>250647</td>\n",
              "      <td>13.0000</td>\n",
              "      <td>2</td>\n",
              "      <td>0</td>\n",
              "    </tr>\n",
              "  </tbody>\n",
              "</table>\n",
              "<p>849 rows × 9 columns</p>\n",
              "</div>"
            ],
            "text/plain": [
              "     pclass  sex   age  sibsp  ...              ticket     fare  embarked  survived\n",
              "0         3    0  28.0      0  ...              335432   7.7333         1         1\n",
              "1         3    1  38.0      0  ...              315089   8.6625         2         0\n",
              "2         3    0  30.0      1  ...              345773  24.1500         2         0\n",
              "3         2    0  54.0      1  ...               29105  23.0000         2         1\n",
              "4         2    1  40.0      0  ...               28221  13.0000         2         0\n",
              "..      ...  ...   ...    ...  ...                 ...      ...       ...       ...\n",
              "845       1    1  55.0      0  ...                 680  50.0000         2         0\n",
              "846       1    1  58.0      0  ...               11771  29.7000         0         0\n",
              "847       2    0  24.0      1  ...              244367  26.0000         2         1\n",
              "848       3    0   3.0      1  ...  SOTON/O.Q. 3101315  13.7750         2         0\n",
              "849       2    1  52.0      0  ...              250647  13.0000         2         0\n",
              "\n",
              "[849 rows x 9 columns]"
            ]
          },
          "metadata": {},
          "execution_count": 78
        }
      ]
    },
    {
      "cell_type": "code",
      "metadata": {
        "id": "tvqiPy2pWq0O"
      },
      "source": [
        "from sklearn import preprocessing"
      ],
      "execution_count": 31,
      "outputs": []
    },
    {
      "cell_type": "code",
      "metadata": {
        "id": "sGJRaXk8V9jL"
      },
      "source": [
        "label_encoder = preprocessing.LabelEncoder()\n",
        "df['sex']= label_encoder.fit_transform(df['sex']) "
      ],
      "execution_count": 32,
      "outputs": []
    },
    {
      "cell_type": "code",
      "metadata": {
        "colab": {
          "base_uri": "https://localhost:8080/",
          "height": 417
        },
        "id": "AjH2MG0OWIf2",
        "outputId": "4512a713-91d9-4fa6-e294-ba793c46e0cf"
      },
      "source": [
        "df"
      ],
      "execution_count": 33,
      "outputs": [
        {
          "output_type": "execute_result",
          "data": {
            "text/html": [
              "<div>\n",
              "<style scoped>\n",
              "    .dataframe tbody tr th:only-of-type {\n",
              "        vertical-align: middle;\n",
              "    }\n",
              "\n",
              "    .dataframe tbody tr th {\n",
              "        vertical-align: top;\n",
              "    }\n",
              "\n",
              "    .dataframe thead th {\n",
              "        text-align: right;\n",
              "    }\n",
              "</style>\n",
              "<table border=\"1\" class=\"dataframe\">\n",
              "  <thead>\n",
              "    <tr style=\"text-align: right;\">\n",
              "      <th></th>\n",
              "      <th>pclass</th>\n",
              "      <th>sex</th>\n",
              "      <th>age</th>\n",
              "      <th>sibsp</th>\n",
              "      <th>parch</th>\n",
              "      <th>ticket</th>\n",
              "      <th>fare</th>\n",
              "      <th>embarked</th>\n",
              "      <th>survived</th>\n",
              "    </tr>\n",
              "  </thead>\n",
              "  <tbody>\n",
              "    <tr>\n",
              "      <th>0</th>\n",
              "      <td>3</td>\n",
              "      <td>0</td>\n",
              "      <td>28.0</td>\n",
              "      <td>0</td>\n",
              "      <td>0</td>\n",
              "      <td>335432</td>\n",
              "      <td>7.7333</td>\n",
              "      <td>Q</td>\n",
              "      <td>1</td>\n",
              "    </tr>\n",
              "    <tr>\n",
              "      <th>1</th>\n",
              "      <td>3</td>\n",
              "      <td>1</td>\n",
              "      <td>38.0</td>\n",
              "      <td>0</td>\n",
              "      <td>0</td>\n",
              "      <td>315089</td>\n",
              "      <td>8.6625</td>\n",
              "      <td>S</td>\n",
              "      <td>0</td>\n",
              "    </tr>\n",
              "    <tr>\n",
              "      <th>2</th>\n",
              "      <td>3</td>\n",
              "      <td>0</td>\n",
              "      <td>30.0</td>\n",
              "      <td>1</td>\n",
              "      <td>1</td>\n",
              "      <td>345773</td>\n",
              "      <td>24.1500</td>\n",
              "      <td>S</td>\n",
              "      <td>0</td>\n",
              "    </tr>\n",
              "    <tr>\n",
              "      <th>3</th>\n",
              "      <td>2</td>\n",
              "      <td>0</td>\n",
              "      <td>54.0</td>\n",
              "      <td>1</td>\n",
              "      <td>3</td>\n",
              "      <td>29105</td>\n",
              "      <td>23.0000</td>\n",
              "      <td>S</td>\n",
              "      <td>1</td>\n",
              "    </tr>\n",
              "    <tr>\n",
              "      <th>4</th>\n",
              "      <td>2</td>\n",
              "      <td>1</td>\n",
              "      <td>40.0</td>\n",
              "      <td>0</td>\n",
              "      <td>0</td>\n",
              "      <td>28221</td>\n",
              "      <td>13.0000</td>\n",
              "      <td>S</td>\n",
              "      <td>0</td>\n",
              "    </tr>\n",
              "    <tr>\n",
              "      <th>...</th>\n",
              "      <td>...</td>\n",
              "      <td>...</td>\n",
              "      <td>...</td>\n",
              "      <td>...</td>\n",
              "      <td>...</td>\n",
              "      <td>...</td>\n",
              "      <td>...</td>\n",
              "      <td>...</td>\n",
              "      <td>...</td>\n",
              "    </tr>\n",
              "    <tr>\n",
              "      <th>845</th>\n",
              "      <td>1</td>\n",
              "      <td>1</td>\n",
              "      <td>55.0</td>\n",
              "      <td>0</td>\n",
              "      <td>0</td>\n",
              "      <td>680</td>\n",
              "      <td>50.0000</td>\n",
              "      <td>S</td>\n",
              "      <td>0</td>\n",
              "    </tr>\n",
              "    <tr>\n",
              "      <th>846</th>\n",
              "      <td>1</td>\n",
              "      <td>1</td>\n",
              "      <td>58.0</td>\n",
              "      <td>0</td>\n",
              "      <td>0</td>\n",
              "      <td>11771</td>\n",
              "      <td>29.7000</td>\n",
              "      <td>C</td>\n",
              "      <td>0</td>\n",
              "    </tr>\n",
              "    <tr>\n",
              "      <th>847</th>\n",
              "      <td>2</td>\n",
              "      <td>0</td>\n",
              "      <td>24.0</td>\n",
              "      <td>1</td>\n",
              "      <td>0</td>\n",
              "      <td>244367</td>\n",
              "      <td>26.0000</td>\n",
              "      <td>S</td>\n",
              "      <td>1</td>\n",
              "    </tr>\n",
              "    <tr>\n",
              "      <th>848</th>\n",
              "      <td>3</td>\n",
              "      <td>0</td>\n",
              "      <td>3.0</td>\n",
              "      <td>1</td>\n",
              "      <td>1</td>\n",
              "      <td>SOTON/O.Q. 3101315</td>\n",
              "      <td>13.7750</td>\n",
              "      <td>S</td>\n",
              "      <td>0</td>\n",
              "    </tr>\n",
              "    <tr>\n",
              "      <th>849</th>\n",
              "      <td>2</td>\n",
              "      <td>1</td>\n",
              "      <td>52.0</td>\n",
              "      <td>0</td>\n",
              "      <td>0</td>\n",
              "      <td>250647</td>\n",
              "      <td>13.0000</td>\n",
              "      <td>S</td>\n",
              "      <td>0</td>\n",
              "    </tr>\n",
              "  </tbody>\n",
              "</table>\n",
              "<p>850 rows × 9 columns</p>\n",
              "</div>"
            ],
            "text/plain": [
              "     pclass  sex   age  sibsp  ...              ticket     fare  embarked survived\n",
              "0         3    0  28.0      0  ...              335432   7.7333         Q        1\n",
              "1         3    1  38.0      0  ...              315089   8.6625         S        0\n",
              "2         3    0  30.0      1  ...              345773  24.1500         S        0\n",
              "3         2    0  54.0      1  ...               29105  23.0000         S        1\n",
              "4         2    1  40.0      0  ...               28221  13.0000         S        0\n",
              "..      ...  ...   ...    ...  ...                 ...      ...       ...      ...\n",
              "845       1    1  55.0      0  ...                 680  50.0000         S        0\n",
              "846       1    1  58.0      0  ...               11771  29.7000         C        0\n",
              "847       2    0  24.0      1  ...              244367  26.0000         S        1\n",
              "848       3    0   3.0      1  ...  SOTON/O.Q. 3101315  13.7750         S        0\n",
              "849       2    1  52.0      0  ...              250647  13.0000         S        0\n",
              "\n",
              "[850 rows x 9 columns]"
            ]
          },
          "metadata": {},
          "execution_count": 33
        }
      ]
    },
    {
      "cell_type": "code",
      "metadata": {
        "colab": {
          "base_uri": "https://localhost:8080/"
        },
        "id": "XE6azgJUX7U5",
        "outputId": "a6f8534c-9fdd-4d0f-ba87-be6071587025"
      },
      "source": [
        "df['embarked'].unique()"
      ],
      "execution_count": 43,
      "outputs": [
        {
          "output_type": "execute_result",
          "data": {
            "text/plain": [
              "array(['Q', 'S', 'C', nan], dtype=object)"
            ]
          },
          "metadata": {},
          "execution_count": 43
        }
      ]
    },
    {
      "cell_type": "code",
      "metadata": {
        "colab": {
          "base_uri": "https://localhost:8080/",
          "height": 417
        },
        "id": "URCUelvSX_Gj",
        "outputId": "9a094d76-ff6e-41b7-a2be-3e2cc65f23d6"
      },
      "source": [
        "df.dropna()"
      ],
      "execution_count": 41,
      "outputs": [
        {
          "output_type": "execute_result",
          "data": {
            "text/html": [
              "<div>\n",
              "<style scoped>\n",
              "    .dataframe tbody tr th:only-of-type {\n",
              "        vertical-align: middle;\n",
              "    }\n",
              "\n",
              "    .dataframe tbody tr th {\n",
              "        vertical-align: top;\n",
              "    }\n",
              "\n",
              "    .dataframe thead th {\n",
              "        text-align: right;\n",
              "    }\n",
              "</style>\n",
              "<table border=\"1\" class=\"dataframe\">\n",
              "  <thead>\n",
              "    <tr style=\"text-align: right;\">\n",
              "      <th></th>\n",
              "      <th>pclass</th>\n",
              "      <th>sex</th>\n",
              "      <th>age</th>\n",
              "      <th>sibsp</th>\n",
              "      <th>parch</th>\n",
              "      <th>ticket</th>\n",
              "      <th>fare</th>\n",
              "      <th>embarked</th>\n",
              "      <th>survived</th>\n",
              "    </tr>\n",
              "  </thead>\n",
              "  <tbody>\n",
              "    <tr>\n",
              "      <th>0</th>\n",
              "      <td>3</td>\n",
              "      <td>0</td>\n",
              "      <td>28.0</td>\n",
              "      <td>0</td>\n",
              "      <td>0</td>\n",
              "      <td>335432</td>\n",
              "      <td>7.7333</td>\n",
              "      <td>Q</td>\n",
              "      <td>1</td>\n",
              "    </tr>\n",
              "    <tr>\n",
              "      <th>1</th>\n",
              "      <td>3</td>\n",
              "      <td>1</td>\n",
              "      <td>38.0</td>\n",
              "      <td>0</td>\n",
              "      <td>0</td>\n",
              "      <td>315089</td>\n",
              "      <td>8.6625</td>\n",
              "      <td>S</td>\n",
              "      <td>0</td>\n",
              "    </tr>\n",
              "    <tr>\n",
              "      <th>2</th>\n",
              "      <td>3</td>\n",
              "      <td>0</td>\n",
              "      <td>30.0</td>\n",
              "      <td>1</td>\n",
              "      <td>1</td>\n",
              "      <td>345773</td>\n",
              "      <td>24.1500</td>\n",
              "      <td>S</td>\n",
              "      <td>0</td>\n",
              "    </tr>\n",
              "    <tr>\n",
              "      <th>3</th>\n",
              "      <td>2</td>\n",
              "      <td>0</td>\n",
              "      <td>54.0</td>\n",
              "      <td>1</td>\n",
              "      <td>3</td>\n",
              "      <td>29105</td>\n",
              "      <td>23.0000</td>\n",
              "      <td>S</td>\n",
              "      <td>1</td>\n",
              "    </tr>\n",
              "    <tr>\n",
              "      <th>4</th>\n",
              "      <td>2</td>\n",
              "      <td>1</td>\n",
              "      <td>40.0</td>\n",
              "      <td>0</td>\n",
              "      <td>0</td>\n",
              "      <td>28221</td>\n",
              "      <td>13.0000</td>\n",
              "      <td>S</td>\n",
              "      <td>0</td>\n",
              "    </tr>\n",
              "    <tr>\n",
              "      <th>...</th>\n",
              "      <td>...</td>\n",
              "      <td>...</td>\n",
              "      <td>...</td>\n",
              "      <td>...</td>\n",
              "      <td>...</td>\n",
              "      <td>...</td>\n",
              "      <td>...</td>\n",
              "      <td>...</td>\n",
              "      <td>...</td>\n",
              "    </tr>\n",
              "    <tr>\n",
              "      <th>845</th>\n",
              "      <td>1</td>\n",
              "      <td>1</td>\n",
              "      <td>55.0</td>\n",
              "      <td>0</td>\n",
              "      <td>0</td>\n",
              "      <td>680</td>\n",
              "      <td>50.0000</td>\n",
              "      <td>S</td>\n",
              "      <td>0</td>\n",
              "    </tr>\n",
              "    <tr>\n",
              "      <th>846</th>\n",
              "      <td>1</td>\n",
              "      <td>1</td>\n",
              "      <td>58.0</td>\n",
              "      <td>0</td>\n",
              "      <td>0</td>\n",
              "      <td>11771</td>\n",
              "      <td>29.7000</td>\n",
              "      <td>C</td>\n",
              "      <td>0</td>\n",
              "    </tr>\n",
              "    <tr>\n",
              "      <th>847</th>\n",
              "      <td>2</td>\n",
              "      <td>0</td>\n",
              "      <td>24.0</td>\n",
              "      <td>1</td>\n",
              "      <td>0</td>\n",
              "      <td>244367</td>\n",
              "      <td>26.0000</td>\n",
              "      <td>S</td>\n",
              "      <td>1</td>\n",
              "    </tr>\n",
              "    <tr>\n",
              "      <th>848</th>\n",
              "      <td>3</td>\n",
              "      <td>0</td>\n",
              "      <td>3.0</td>\n",
              "      <td>1</td>\n",
              "      <td>1</td>\n",
              "      <td>SOTON/O.Q. 3101315</td>\n",
              "      <td>13.7750</td>\n",
              "      <td>S</td>\n",
              "      <td>0</td>\n",
              "    </tr>\n",
              "    <tr>\n",
              "      <th>849</th>\n",
              "      <td>2</td>\n",
              "      <td>1</td>\n",
              "      <td>52.0</td>\n",
              "      <td>0</td>\n",
              "      <td>0</td>\n",
              "      <td>250647</td>\n",
              "      <td>13.0000</td>\n",
              "      <td>S</td>\n",
              "      <td>0</td>\n",
              "    </tr>\n",
              "  </tbody>\n",
              "</table>\n",
              "<p>849 rows × 9 columns</p>\n",
              "</div>"
            ],
            "text/plain": [
              "     pclass  sex   age  sibsp  ...              ticket     fare  embarked survived\n",
              "0         3    0  28.0      0  ...              335432   7.7333         Q        1\n",
              "1         3    1  38.0      0  ...              315089   8.6625         S        0\n",
              "2         3    0  30.0      1  ...              345773  24.1500         S        0\n",
              "3         2    0  54.0      1  ...               29105  23.0000         S        1\n",
              "4         2    1  40.0      0  ...               28221  13.0000         S        0\n",
              "..      ...  ...   ...    ...  ...                 ...      ...       ...      ...\n",
              "845       1    1  55.0      0  ...                 680  50.0000         S        0\n",
              "846       1    1  58.0      0  ...               11771  29.7000         C        0\n",
              "847       2    0  24.0      1  ...              244367  26.0000         S        1\n",
              "848       3    0   3.0      1  ...  SOTON/O.Q. 3101315  13.7750         S        0\n",
              "849       2    1  52.0      0  ...              250647  13.0000         S        0\n",
              "\n",
              "[849 rows x 9 columns]"
            ]
          },
          "metadata": {},
          "execution_count": 41
        }
      ]
    },
    {
      "cell_type": "code",
      "metadata": {
        "colab": {
          "base_uri": "https://localhost:8080/"
        },
        "id": "7CzVuCoSZ8tK",
        "outputId": "8cf072ad-34d1-4fde-8317-4eb829171018"
      },
      "source": [
        "df['embarked'].unique()"
      ],
      "execution_count": 44,
      "outputs": [
        {
          "output_type": "execute_result",
          "data": {
            "text/plain": [
              "array(['Q', 'S', 'C', nan], dtype=object)"
            ]
          },
          "metadata": {},
          "execution_count": 44
        }
      ]
    },
    {
      "cell_type": "code",
      "metadata": {
        "colab": {
          "base_uri": "https://localhost:8080/"
        },
        "id": "0fqrmcR-Z-R6",
        "outputId": "8ca96fc7-c4dd-483d-c34a-09a7189c6055"
      },
      "source": [
        "df['embarked'].value_counts()"
      ],
      "execution_count": 45,
      "outputs": [
        {
          "output_type": "execute_result",
          "data": {
            "text/plain": [
              "S    589\n",
              "C    176\n",
              "Q     84\n",
              "Name: embarked, dtype: int64"
            ]
          },
          "metadata": {},
          "execution_count": 45
        }
      ]
    },
    {
      "cell_type": "code",
      "metadata": {
        "colab": {
          "base_uri": "https://localhost:8080/"
        },
        "id": "gRnmbCWlaLQi",
        "outputId": "678f1ec7-7833-4842-c0fb-50208b25e6c3"
      },
      "source": [
        "df.isna().sum()"
      ],
      "execution_count": 46,
      "outputs": [
        {
          "output_type": "execute_result",
          "data": {
            "text/plain": [
              "pclass      0\n",
              "sex         0\n",
              "age         0\n",
              "sibsp       0\n",
              "parch       0\n",
              "ticket      0\n",
              "fare        0\n",
              "embarked    1\n",
              "survived    0\n",
              "dtype: int64"
            ]
          },
          "metadata": {},
          "execution_count": 46
        }
      ]
    },
    {
      "cell_type": "code",
      "metadata": {
        "id": "315CgcABahaY"
      },
      "source": [
        "df.dropna(inplace=True)"
      ],
      "execution_count": 74,
      "outputs": []
    },
    {
      "cell_type": "code",
      "metadata": {
        "colab": {
          "base_uri": "https://localhost:8080/"
        },
        "id": "dS4rNyBaa9F7",
        "outputId": "56ef86d8-603b-4ac0-faad-1f18c1b18338"
      },
      "source": [
        "df['embarked'].isnull().sum()"
      ],
      "execution_count": 51,
      "outputs": [
        {
          "output_type": "execute_result",
          "data": {
            "text/plain": [
              "1"
            ]
          },
          "metadata": {},
          "execution_count": 51
        }
      ]
    },
    {
      "cell_type": "code",
      "metadata": {
        "id": "ekrQFTZWblW4"
      },
      "source": [
        "df['embarked'].dropna(inplace=True)"
      ],
      "execution_count": 60,
      "outputs": []
    },
    {
      "cell_type": "code",
      "metadata": {
        "id": "vyH94R7OcvDr"
      },
      "source": [
        "label_encoder2 = preprocessing.LabelEncoder()"
      ],
      "execution_count": 66,
      "outputs": []
    },
    {
      "cell_type": "code",
      "metadata": {
        "id": "C3ZMfBi_cH6L"
      },
      "source": [
        "df['embarked']= label_encoder2.fit_transform(df['embarked']) "
      ],
      "execution_count": 75,
      "outputs": []
    },
    {
      "cell_type": "code",
      "metadata": {
        "colab": {
          "base_uri": "https://localhost:8080/",
          "height": 417
        },
        "id": "JnOPARmMgUtl",
        "outputId": "9bdcd9d6-dd03-4e83-c0de-6e0ea4ffecf8"
      },
      "source": [
        "df"
      ],
      "execution_count": 76,
      "outputs": [
        {
          "output_type": "execute_result",
          "data": {
            "text/html": [
              "<div>\n",
              "<style scoped>\n",
              "    .dataframe tbody tr th:only-of-type {\n",
              "        vertical-align: middle;\n",
              "    }\n",
              "\n",
              "    .dataframe tbody tr th {\n",
              "        vertical-align: top;\n",
              "    }\n",
              "\n",
              "    .dataframe thead th {\n",
              "        text-align: right;\n",
              "    }\n",
              "</style>\n",
              "<table border=\"1\" class=\"dataframe\">\n",
              "  <thead>\n",
              "    <tr style=\"text-align: right;\">\n",
              "      <th></th>\n",
              "      <th>pclass</th>\n",
              "      <th>sex</th>\n",
              "      <th>age</th>\n",
              "      <th>sibsp</th>\n",
              "      <th>parch</th>\n",
              "      <th>ticket</th>\n",
              "      <th>fare</th>\n",
              "      <th>embarked</th>\n",
              "      <th>survived</th>\n",
              "    </tr>\n",
              "  </thead>\n",
              "  <tbody>\n",
              "    <tr>\n",
              "      <th>0</th>\n",
              "      <td>3</td>\n",
              "      <td>0</td>\n",
              "      <td>28.0</td>\n",
              "      <td>0</td>\n",
              "      <td>0</td>\n",
              "      <td>335432</td>\n",
              "      <td>7.7333</td>\n",
              "      <td>1</td>\n",
              "      <td>1</td>\n",
              "    </tr>\n",
              "    <tr>\n",
              "      <th>1</th>\n",
              "      <td>3</td>\n",
              "      <td>1</td>\n",
              "      <td>38.0</td>\n",
              "      <td>0</td>\n",
              "      <td>0</td>\n",
              "      <td>315089</td>\n",
              "      <td>8.6625</td>\n",
              "      <td>2</td>\n",
              "      <td>0</td>\n",
              "    </tr>\n",
              "    <tr>\n",
              "      <th>2</th>\n",
              "      <td>3</td>\n",
              "      <td>0</td>\n",
              "      <td>30.0</td>\n",
              "      <td>1</td>\n",
              "      <td>1</td>\n",
              "      <td>345773</td>\n",
              "      <td>24.1500</td>\n",
              "      <td>2</td>\n",
              "      <td>0</td>\n",
              "    </tr>\n",
              "    <tr>\n",
              "      <th>3</th>\n",
              "      <td>2</td>\n",
              "      <td>0</td>\n",
              "      <td>54.0</td>\n",
              "      <td>1</td>\n",
              "      <td>3</td>\n",
              "      <td>29105</td>\n",
              "      <td>23.0000</td>\n",
              "      <td>2</td>\n",
              "      <td>1</td>\n",
              "    </tr>\n",
              "    <tr>\n",
              "      <th>4</th>\n",
              "      <td>2</td>\n",
              "      <td>1</td>\n",
              "      <td>40.0</td>\n",
              "      <td>0</td>\n",
              "      <td>0</td>\n",
              "      <td>28221</td>\n",
              "      <td>13.0000</td>\n",
              "      <td>2</td>\n",
              "      <td>0</td>\n",
              "    </tr>\n",
              "    <tr>\n",
              "      <th>...</th>\n",
              "      <td>...</td>\n",
              "      <td>...</td>\n",
              "      <td>...</td>\n",
              "      <td>...</td>\n",
              "      <td>...</td>\n",
              "      <td>...</td>\n",
              "      <td>...</td>\n",
              "      <td>...</td>\n",
              "      <td>...</td>\n",
              "    </tr>\n",
              "    <tr>\n",
              "      <th>845</th>\n",
              "      <td>1</td>\n",
              "      <td>1</td>\n",
              "      <td>55.0</td>\n",
              "      <td>0</td>\n",
              "      <td>0</td>\n",
              "      <td>680</td>\n",
              "      <td>50.0000</td>\n",
              "      <td>2</td>\n",
              "      <td>0</td>\n",
              "    </tr>\n",
              "    <tr>\n",
              "      <th>846</th>\n",
              "      <td>1</td>\n",
              "      <td>1</td>\n",
              "      <td>58.0</td>\n",
              "      <td>0</td>\n",
              "      <td>0</td>\n",
              "      <td>11771</td>\n",
              "      <td>29.7000</td>\n",
              "      <td>0</td>\n",
              "      <td>0</td>\n",
              "    </tr>\n",
              "    <tr>\n",
              "      <th>847</th>\n",
              "      <td>2</td>\n",
              "      <td>0</td>\n",
              "      <td>24.0</td>\n",
              "      <td>1</td>\n",
              "      <td>0</td>\n",
              "      <td>244367</td>\n",
              "      <td>26.0000</td>\n",
              "      <td>2</td>\n",
              "      <td>1</td>\n",
              "    </tr>\n",
              "    <tr>\n",
              "      <th>848</th>\n",
              "      <td>3</td>\n",
              "      <td>0</td>\n",
              "      <td>3.0</td>\n",
              "      <td>1</td>\n",
              "      <td>1</td>\n",
              "      <td>SOTON/O.Q. 3101315</td>\n",
              "      <td>13.7750</td>\n",
              "      <td>2</td>\n",
              "      <td>0</td>\n",
              "    </tr>\n",
              "    <tr>\n",
              "      <th>849</th>\n",
              "      <td>2</td>\n",
              "      <td>1</td>\n",
              "      <td>52.0</td>\n",
              "      <td>0</td>\n",
              "      <td>0</td>\n",
              "      <td>250647</td>\n",
              "      <td>13.0000</td>\n",
              "      <td>2</td>\n",
              "      <td>0</td>\n",
              "    </tr>\n",
              "  </tbody>\n",
              "</table>\n",
              "<p>849 rows × 9 columns</p>\n",
              "</div>"
            ],
            "text/plain": [
              "     pclass  sex   age  sibsp  ...              ticket     fare  embarked  survived\n",
              "0         3    0  28.0      0  ...              335432   7.7333         1         1\n",
              "1         3    1  38.0      0  ...              315089   8.6625         2         0\n",
              "2         3    0  30.0      1  ...              345773  24.1500         2         0\n",
              "3         2    0  54.0      1  ...               29105  23.0000         2         1\n",
              "4         2    1  40.0      0  ...               28221  13.0000         2         0\n",
              "..      ...  ...   ...    ...  ...                 ...      ...       ...       ...\n",
              "845       1    1  55.0      0  ...                 680  50.0000         2         0\n",
              "846       1    1  58.0      0  ...               11771  29.7000         0         0\n",
              "847       2    0  24.0      1  ...              244367  26.0000         2         1\n",
              "848       3    0   3.0      1  ...  SOTON/O.Q. 3101315  13.7750         2         0\n",
              "849       2    1  52.0      0  ...              250647  13.0000         2         0\n",
              "\n",
              "[849 rows x 9 columns]"
            ]
          },
          "metadata": {},
          "execution_count": 76
        }
      ]
    },
    {
      "cell_type": "code",
      "metadata": {
        "id": "wjL3W9nLgXk9"
      },
      "source": [
        "col_norm = ['age' , 'fare']\n",
        "\n",
        "# we will use the most basic normalization i.e divide by max \n",
        "\n",
        "\n",
        "max_ = [] \n",
        "\n",
        "\n",
        "# loop for getting the max of each column \n",
        "for i in col_norm : \n",
        "  max_.append(df[i].max())\n",
        "\n",
        "k = 0 \n",
        "\n",
        "# loop for dividing the column values with the max value \n",
        "for i in col_norm : \n",
        "  df[i] = df[i]/max_[k]\n",
        "  k = k + 1 "
      ],
      "execution_count": 81,
      "outputs": []
    },
    {
      "cell_type": "code",
      "metadata": {
        "id": "bjZwqOv7hZEG"
      },
      "source": [
        "df.drop(['ticket'], axis='columns', inplace=True)"
      ],
      "execution_count": 82,
      "outputs": []
    },
    {
      "cell_type": "code",
      "metadata": {
        "colab": {
          "base_uri": "https://localhost:8080/",
          "height": 417
        },
        "id": "5Ps3vVjQhjyb",
        "outputId": "5272d1df-757c-4226-9d7d-f30f88f72751"
      },
      "source": [
        "df"
      ],
      "execution_count": 83,
      "outputs": [
        {
          "output_type": "execute_result",
          "data": {
            "text/html": [
              "<div>\n",
              "<style scoped>\n",
              "    .dataframe tbody tr th:only-of-type {\n",
              "        vertical-align: middle;\n",
              "    }\n",
              "\n",
              "    .dataframe tbody tr th {\n",
              "        vertical-align: top;\n",
              "    }\n",
              "\n",
              "    .dataframe thead th {\n",
              "        text-align: right;\n",
              "    }\n",
              "</style>\n",
              "<table border=\"1\" class=\"dataframe\">\n",
              "  <thead>\n",
              "    <tr style=\"text-align: right;\">\n",
              "      <th></th>\n",
              "      <th>pclass</th>\n",
              "      <th>sex</th>\n",
              "      <th>age</th>\n",
              "      <th>sibsp</th>\n",
              "      <th>parch</th>\n",
              "      <th>fare</th>\n",
              "      <th>embarked</th>\n",
              "      <th>survived</th>\n",
              "    </tr>\n",
              "  </thead>\n",
              "  <tbody>\n",
              "    <tr>\n",
              "      <th>0</th>\n",
              "      <td>3</td>\n",
              "      <td>0</td>\n",
              "      <td>0.3500</td>\n",
              "      <td>0</td>\n",
              "      <td>0</td>\n",
              "      <td>0.015094</td>\n",
              "      <td>1</td>\n",
              "      <td>1</td>\n",
              "    </tr>\n",
              "    <tr>\n",
              "      <th>1</th>\n",
              "      <td>3</td>\n",
              "      <td>1</td>\n",
              "      <td>0.4750</td>\n",
              "      <td>0</td>\n",
              "      <td>0</td>\n",
              "      <td>0.016908</td>\n",
              "      <td>2</td>\n",
              "      <td>0</td>\n",
              "    </tr>\n",
              "    <tr>\n",
              "      <th>2</th>\n",
              "      <td>3</td>\n",
              "      <td>0</td>\n",
              "      <td>0.3750</td>\n",
              "      <td>1</td>\n",
              "      <td>1</td>\n",
              "      <td>0.047138</td>\n",
              "      <td>2</td>\n",
              "      <td>0</td>\n",
              "    </tr>\n",
              "    <tr>\n",
              "      <th>3</th>\n",
              "      <td>2</td>\n",
              "      <td>0</td>\n",
              "      <td>0.6750</td>\n",
              "      <td>1</td>\n",
              "      <td>3</td>\n",
              "      <td>0.044893</td>\n",
              "      <td>2</td>\n",
              "      <td>1</td>\n",
              "    </tr>\n",
              "    <tr>\n",
              "      <th>4</th>\n",
              "      <td>2</td>\n",
              "      <td>1</td>\n",
              "      <td>0.5000</td>\n",
              "      <td>0</td>\n",
              "      <td>0</td>\n",
              "      <td>0.025374</td>\n",
              "      <td>2</td>\n",
              "      <td>0</td>\n",
              "    </tr>\n",
              "    <tr>\n",
              "      <th>...</th>\n",
              "      <td>...</td>\n",
              "      <td>...</td>\n",
              "      <td>...</td>\n",
              "      <td>...</td>\n",
              "      <td>...</td>\n",
              "      <td>...</td>\n",
              "      <td>...</td>\n",
              "      <td>...</td>\n",
              "    </tr>\n",
              "    <tr>\n",
              "      <th>845</th>\n",
              "      <td>1</td>\n",
              "      <td>1</td>\n",
              "      <td>0.6875</td>\n",
              "      <td>0</td>\n",
              "      <td>0</td>\n",
              "      <td>0.097594</td>\n",
              "      <td>2</td>\n",
              "      <td>0</td>\n",
              "    </tr>\n",
              "    <tr>\n",
              "      <th>846</th>\n",
              "      <td>1</td>\n",
              "      <td>1</td>\n",
              "      <td>0.7250</td>\n",
              "      <td>0</td>\n",
              "      <td>0</td>\n",
              "      <td>0.057971</td>\n",
              "      <td>0</td>\n",
              "      <td>0</td>\n",
              "    </tr>\n",
              "    <tr>\n",
              "      <th>847</th>\n",
              "      <td>2</td>\n",
              "      <td>0</td>\n",
              "      <td>0.3000</td>\n",
              "      <td>1</td>\n",
              "      <td>0</td>\n",
              "      <td>0.050749</td>\n",
              "      <td>2</td>\n",
              "      <td>1</td>\n",
              "    </tr>\n",
              "    <tr>\n",
              "      <th>848</th>\n",
              "      <td>3</td>\n",
              "      <td>0</td>\n",
              "      <td>0.0375</td>\n",
              "      <td>1</td>\n",
              "      <td>1</td>\n",
              "      <td>0.026887</td>\n",
              "      <td>2</td>\n",
              "      <td>0</td>\n",
              "    </tr>\n",
              "    <tr>\n",
              "      <th>849</th>\n",
              "      <td>2</td>\n",
              "      <td>1</td>\n",
              "      <td>0.6500</td>\n",
              "      <td>0</td>\n",
              "      <td>0</td>\n",
              "      <td>0.025374</td>\n",
              "      <td>2</td>\n",
              "      <td>0</td>\n",
              "    </tr>\n",
              "  </tbody>\n",
              "</table>\n",
              "<p>849 rows × 8 columns</p>\n",
              "</div>"
            ],
            "text/plain": [
              "     pclass  sex     age  sibsp  parch      fare  embarked  survived\n",
              "0         3    0  0.3500      0      0  0.015094         1         1\n",
              "1         3    1  0.4750      0      0  0.016908         2         0\n",
              "2         3    0  0.3750      1      1  0.047138         2         0\n",
              "3         2    0  0.6750      1      3  0.044893         2         1\n",
              "4         2    1  0.5000      0      0  0.025374         2         0\n",
              "..      ...  ...     ...    ...    ...       ...       ...       ...\n",
              "845       1    1  0.6875      0      0  0.097594         2         0\n",
              "846       1    1  0.7250      0      0  0.057971         0         0\n",
              "847       2    0  0.3000      1      0  0.050749         2         1\n",
              "848       3    0  0.0375      1      1  0.026887         2         0\n",
              "849       2    1  0.6500      0      0  0.025374         2         0\n",
              "\n",
              "[849 rows x 8 columns]"
            ]
          },
          "metadata": {},
          "execution_count": 83
        }
      ]
    },
    {
      "cell_type": "code",
      "metadata": {
        "colab": {
          "base_uri": "https://localhost:8080/",
          "height": 295
        },
        "id": "27ed2hsUjMXN",
        "outputId": "1805da2f-7ae3-424b-ec07-307046011adc"
      },
      "source": [
        "df.corr()"
      ],
      "execution_count": 92,
      "outputs": [
        {
          "output_type": "execute_result",
          "data": {
            "text/html": [
              "<div>\n",
              "<style scoped>\n",
              "    .dataframe tbody tr th:only-of-type {\n",
              "        vertical-align: middle;\n",
              "    }\n",
              "\n",
              "    .dataframe tbody tr th {\n",
              "        vertical-align: top;\n",
              "    }\n",
              "\n",
              "    .dataframe thead th {\n",
              "        text-align: right;\n",
              "    }\n",
              "</style>\n",
              "<table border=\"1\" class=\"dataframe\">\n",
              "  <thead>\n",
              "    <tr style=\"text-align: right;\">\n",
              "      <th></th>\n",
              "      <th>pclass</th>\n",
              "      <th>sex</th>\n",
              "      <th>age</th>\n",
              "      <th>sibsp</th>\n",
              "      <th>parch</th>\n",
              "      <th>fare</th>\n",
              "      <th>embarked</th>\n",
              "      <th>survived</th>\n",
              "    </tr>\n",
              "  </thead>\n",
              "  <tbody>\n",
              "    <tr>\n",
              "      <th>pclass</th>\n",
              "      <td>1.000000</td>\n",
              "      <td>0.149794</td>\n",
              "      <td>-0.375877</td>\n",
              "      <td>0.073664</td>\n",
              "      <td>-0.007207</td>\n",
              "      <td>-0.560446</td>\n",
              "      <td>0.203984</td>\n",
              "      <td>-0.327740</td>\n",
              "    </tr>\n",
              "    <tr>\n",
              "      <th>sex</th>\n",
              "      <td>0.149794</td>\n",
              "      <td>1.000000</td>\n",
              "      <td>0.029614</td>\n",
              "      <td>-0.124626</td>\n",
              "      <td>-0.170968</td>\n",
              "      <td>-0.182268</td>\n",
              "      <td>0.072551</td>\n",
              "      <td>-0.509247</td>\n",
              "    </tr>\n",
              "    <tr>\n",
              "      <th>age</th>\n",
              "      <td>-0.375877</td>\n",
              "      <td>0.029614</td>\n",
              "      <td>1.000000</td>\n",
              "      <td>-0.188058</td>\n",
              "      <td>-0.127504</td>\n",
              "      <td>0.192939</td>\n",
              "      <td>-0.070534</td>\n",
              "      <td>-0.034727</td>\n",
              "    </tr>\n",
              "    <tr>\n",
              "      <th>sibsp</th>\n",
              "      <td>0.073664</td>\n",
              "      <td>-0.124626</td>\n",
              "      <td>-0.188058</td>\n",
              "      <td>1.000000</td>\n",
              "      <td>0.389090</td>\n",
              "      <td>0.142527</td>\n",
              "      <td>0.090982</td>\n",
              "      <td>-0.044305</td>\n",
              "    </tr>\n",
              "    <tr>\n",
              "      <th>parch</th>\n",
              "      <td>-0.007207</td>\n",
              "      <td>-0.170968</td>\n",
              "      <td>-0.127504</td>\n",
              "      <td>0.389090</td>\n",
              "      <td>1.000000</td>\n",
              "      <td>0.247130</td>\n",
              "      <td>0.060636</td>\n",
              "      <td>0.059910</td>\n",
              "    </tr>\n",
              "    <tr>\n",
              "      <th>fare</th>\n",
              "      <td>-0.560446</td>\n",
              "      <td>-0.182268</td>\n",
              "      <td>0.192939</td>\n",
              "      <td>0.142527</td>\n",
              "      <td>0.247130</td>\n",
              "      <td>1.000000</td>\n",
              "      <td>-0.255227</td>\n",
              "      <td>0.250514</td>\n",
              "    </tr>\n",
              "    <tr>\n",
              "      <th>embarked</th>\n",
              "      <td>0.203984</td>\n",
              "      <td>0.072551</td>\n",
              "      <td>-0.070534</td>\n",
              "      <td>0.090982</td>\n",
              "      <td>0.060636</td>\n",
              "      <td>-0.255227</td>\n",
              "      <td>1.000000</td>\n",
              "      <td>-0.152179</td>\n",
              "    </tr>\n",
              "    <tr>\n",
              "      <th>survived</th>\n",
              "      <td>-0.327740</td>\n",
              "      <td>-0.509247</td>\n",
              "      <td>-0.034727</td>\n",
              "      <td>-0.044305</td>\n",
              "      <td>0.059910</td>\n",
              "      <td>0.250514</td>\n",
              "      <td>-0.152179</td>\n",
              "      <td>1.000000</td>\n",
              "    </tr>\n",
              "  </tbody>\n",
              "</table>\n",
              "</div>"
            ],
            "text/plain": [
              "            pclass       sex       age  ...      fare  embarked  survived\n",
              "pclass    1.000000  0.149794 -0.375877  ... -0.560446  0.203984 -0.327740\n",
              "sex       0.149794  1.000000  0.029614  ... -0.182268  0.072551 -0.509247\n",
              "age      -0.375877  0.029614  1.000000  ...  0.192939 -0.070534 -0.034727\n",
              "sibsp     0.073664 -0.124626 -0.188058  ...  0.142527  0.090982 -0.044305\n",
              "parch    -0.007207 -0.170968 -0.127504  ...  0.247130  0.060636  0.059910\n",
              "fare     -0.560446 -0.182268  0.192939  ...  1.000000 -0.255227  0.250514\n",
              "embarked  0.203984  0.072551 -0.070534  ... -0.255227  1.000000 -0.152179\n",
              "survived -0.327740 -0.509247 -0.034727  ...  0.250514 -0.152179  1.000000\n",
              "\n",
              "[8 rows x 8 columns]"
            ]
          },
          "metadata": {},
          "execution_count": 92
        }
      ]
    },
    {
      "cell_type": "code",
      "metadata": {
        "id": "wT4Q4dLticWb"
      },
      "source": [
        "X = df.iloc[:, :-1].values\n",
        "y = df.iloc[:, -1].values"
      ],
      "execution_count": 98,
      "outputs": []
    },
    {
      "cell_type": "code",
      "metadata": {
        "id": "hZd4qcPOhnZJ"
      },
      "source": [
        "from sklearn.model_selection import train_test_split\n",
        "X_train, X_test, y_train, y_test = train_test_split(X, y, test_size = 0.25, random_state = 0)"
      ],
      "execution_count": 87,
      "outputs": []
    },
    {
      "cell_type": "code",
      "metadata": {
        "colab": {
          "base_uri": "https://localhost:8080/"
        },
        "id": "FbNR453xihS6",
        "outputId": "61067bf2-4cba-429a-903b-54453c951484"
      },
      "source": [
        "X_train"
      ],
      "execution_count": 88,
      "outputs": [
        {
          "output_type": "execute_result",
          "data": {
            "text/plain": [
              "array([[2.        , 0.        , 0.4375    , ..., 0.        , 0.04098927,\n",
              "        2.        ],\n",
              "       [1.        , 0.        , 0.375     , ..., 0.        , 0.32179837,\n",
              "        2.        ],\n",
              "       [3.        , 1.        , 0.375     , ..., 0.        , 0.01541158,\n",
              "        2.        ],\n",
              "       ...,\n",
              "       [3.        , 1.        , 0.35      , ..., 0.        , 0.01415106,\n",
              "        2.        ],\n",
              "       [3.        , 1.        , 0.2625    , ..., 0.        , 0.01517579,\n",
              "        2.        ],\n",
              "       [1.        , 1.        , 0.5375    , ..., 0.        , 0.0541074 ,\n",
              "        0.        ]])"
            ]
          },
          "metadata": {},
          "execution_count": 88
        }
      ]
    },
    {
      "cell_type": "code",
      "metadata": {
        "colab": {
          "base_uri": "https://localhost:8080/"
        },
        "id": "P2CQKF72ik3c",
        "outputId": "776dbed7-fdc6-4ff5-9bae-ac3c0f50328b"
      },
      "source": [
        "from sklearn.tree import DecisionTreeClassifier\n",
        "classifier = DecisionTreeClassifier(criterion = 'entropy', random_state = 0)\n",
        "classifier.fit(X_train, y_train)"
      ],
      "execution_count": 89,
      "outputs": [
        {
          "output_type": "execute_result",
          "data": {
            "text/plain": [
              "DecisionTreeClassifier(ccp_alpha=0.0, class_weight=None, criterion='entropy',\n",
              "                       max_depth=None, max_features=None, max_leaf_nodes=None,\n",
              "                       min_impurity_decrease=0.0, min_impurity_split=None,\n",
              "                       min_samples_leaf=1, min_samples_split=2,\n",
              "                       min_weight_fraction_leaf=0.0, presort='deprecated',\n",
              "                       random_state=0, splitter='best')"
            ]
          },
          "metadata": {},
          "execution_count": 89
        }
      ]
    },
    {
      "cell_type": "code",
      "metadata": {
        "colab": {
          "base_uri": "https://localhost:8080/"
        },
        "id": "LPfls7iqiwCv",
        "outputId": "84602617-9a03-4dc3-8c37-3dc6f926a676"
      },
      "source": [
        "from sklearn.metrics import confusion_matrix, accuracy_score\n",
        "y_pred = classifier.predict(X_test)\n",
        "cm = confusion_matrix(y_test, y_pred)\n",
        "print(cm)\n",
        "accuracy_score(y_test, y_pred)"
      ],
      "execution_count": 91,
      "outputs": [
        {
          "output_type": "stream",
          "name": "stdout",
          "text": [
            "[[113  19]\n",
            " [ 31  50]]\n"
          ]
        },
        {
          "output_type": "execute_result",
          "data": {
            "text/plain": [
              "0.7652582159624414"
            ]
          },
          "metadata": {},
          "execution_count": 91
        }
      ]
    }
  ]
}